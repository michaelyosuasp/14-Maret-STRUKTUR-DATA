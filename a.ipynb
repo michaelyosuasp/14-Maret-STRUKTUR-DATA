{
 "cells": [
  {
   "cell_type": "code",
   "execution_count": 8,
   "id": "18755bc4",
   "metadata": {},
   "outputs": [
    {
     "name": "stdout",
     "output_type": "stream",
     "text": [
      "('a', 'b', 'c', 'd', 'e')\n"
     ]
    }
   ],
   "source": [
    "newTuple = ('a', 'b', 'c', 'd', 'e')\n",
    "newTuple1 = tuple('abcde')\n",
    "print(newTuple)"
   ]
  },
  {
   "cell_type": "code",
   "execution_count": 9,
   "id": "5332cd1a",
   "metadata": {},
   "outputs": [
    {
     "name": "stdout",
     "output_type": "stream",
     "text": [
      "('a', 'b', 'c', 'd', 'e')\n"
     ]
    }
   ],
   "source": [
    "print(newTuple1)"
   ]
  },
  {
   "cell_type": "code",
   "execution_count": 10,
   "id": "aca6d77d",
   "metadata": {},
   "outputs": [
    {
     "name": "stdout",
     "output_type": "stream",
     "text": [
      "a\n"
     ]
    }
   ],
   "source": [
    " #acces Tuple Elements\n",
    "    \n",
    "print(newTuple[0])"
   ]
  },
  {
   "cell_type": "code",
   "execution_count": 13,
   "id": "424f51f6",
   "metadata": {},
   "outputs": [
    {
     "name": "stdout",
     "output_type": "stream",
     "text": [
      "a\n"
     ]
    }
   ],
   "source": [
    "print(newTuple[0])"
   ]
  },
  {
   "cell_type": "code",
   "execution_count": 16,
   "id": "1ba334d8",
   "metadata": {},
   "outputs": [
    {
     "name": "stdout",
     "output_type": "stream",
     "text": [
      "e\n"
     ]
    }
   ],
   "source": [
    "print(newTuple[4])"
   ]
  },
  {
   "cell_type": "code",
   "execution_count": 18,
   "id": "1f8f0e92",
   "metadata": {},
   "outputs": [
    {
     "name": "stdout",
     "output_type": "stream",
     "text": [
      "('a', 'b', 'c', 'd')\n"
     ]
    }
   ],
   "source": [
    "print(newTuple[0:4])"
   ]
  },
  {
   "cell_type": "code",
   "execution_count": 21,
   "id": "e0ac7834",
   "metadata": {},
   "outputs": [
    {
     "name": "stdout",
     "output_type": "stream",
     "text": [
      "('a', 'd')\n"
     ]
    }
   ],
   "source": [
    "print(newTuple[0::3])"
   ]
  },
  {
   "cell_type": "code",
   "execution_count": 23,
   "id": "485bffb6",
   "metadata": {},
   "outputs": [
    {
     "name": "stdout",
     "output_type": "stream",
     "text": [
      "('b', 'e')\n"
     ]
    }
   ],
   "source": [
    "print(newTuple[1::3])"
   ]
  },
  {
   "cell_type": "code",
   "execution_count": 24,
   "id": "14a8d21b",
   "metadata": {},
   "outputs": [
    {
     "name": "stdout",
     "output_type": "stream",
     "text": [
      "('a', 'b', 'c')\n"
     ]
    }
   ],
   "source": [
    "print(newTuple[:3])"
   ]
  },
  {
   "cell_type": "code",
   "execution_count": 25,
   "id": "c95ddc14",
   "metadata": {},
   "outputs": [
    {
     "name": "stdout",
     "output_type": "stream",
     "text": [
      "a\n"
     ]
    }
   ],
   "source": [
    "print(newTuple[-5])"
   ]
  },
  {
   "cell_type": "code",
   "execution_count": 27,
   "id": "c0d616cf",
   "metadata": {},
   "outputs": [
    {
     "name": "stdout",
     "output_type": "stream",
     "text": [
      "('a', 'c', 'e')\n"
     ]
    }
   ],
   "source": [
    "print(newTuple[-5::2])"
   ]
  },
  {
   "cell_type": "code",
   "execution_count": 22,
   "id": "3238e165",
   "metadata": {},
   "outputs": [
    {
     "name": "stdout",
     "output_type": "stream",
     "text": [
      "a\n",
      "b\n",
      "c\n",
      "d\n",
      "e\n"
     ]
    }
   ],
   "source": [
    "#traverse through tuple\n",
    "\n",
    "for i in newTuple:\n",
    "    print(i)"
   ]
  },
  {
   "cell_type": "code",
   "execution_count": 37,
   "id": "9b0df9e3",
   "metadata": {},
   "outputs": [
    {
     "name": "stdout",
     "output_type": "stream",
     "text": [
      "a\n",
      "b\n",
      "c\n",
      "d\n",
      "e\n"
     ]
    }
   ],
   "source": [
    "for index in range(len(newTuple)):\n",
    "    print(newTuple[index])"
   ]
  },
  {
   "cell_type": "code",
   "execution_count": 38,
   "id": "cde35921",
   "metadata": {},
   "outputs": [
    {
     "name": "stdout",
     "output_type": "stream",
     "text": [
      "True\n"
     ]
    }
   ],
   "source": [
    "# how to search for a element in tuple?\n",
    "\n",
    "print('a' in newTuple)"
   ]
  },
  {
   "cell_type": "code",
   "execution_count": 39,
   "id": "026ee4dd",
   "metadata": {},
   "outputs": [],
   "source": [
    "def searchInTuple(pTuple, element):\n",
    "    for i in pTuple:\n",
    "        if i == element:\n",
    "            return pTuple.index(i)\n",
    "        return 'The element does not exist'\n",
    "    print(searchInTuple(newTuple, 'a'))"
   ]
  },
  {
   "cell_type": "code",
   "execution_count": 41,
   "id": "c8fd3810",
   "metadata": {},
   "outputs": [
    {
     "name": "stdout",
     "output_type": "stream",
     "text": [
      "(1, 4, 3, 2, 5, 1, 2, 6, 9, 8, 7)\n"
     ]
    }
   ],
   "source": [
    "# tuple operations\n",
    "\n",
    "myTuple = (1,4,3,2,5)\n",
    "myTuple1 = (1,2,6,9,8,7)\n",
    "print(myTuple + myTuple1)"
   ]
  },
  {
   "cell_type": "code",
   "execution_count": 42,
   "id": "8c0b6ba6",
   "metadata": {},
   "outputs": [
    {
     "name": "stdout",
     "output_type": "stream",
     "text": [
      "(1, 4, 3, 2, 5, 1, 4, 3, 2, 5, 1, 4, 3, 2, 5, 1, 4, 3, 2, 5)\n"
     ]
    }
   ],
   "source": [
    "print(myTuple * 4)"
   ]
  },
  {
   "cell_type": "code",
   "execution_count": 43,
   "id": "a4338df5",
   "metadata": {},
   "outputs": [
    {
     "name": "stdout",
     "output_type": "stream",
     "text": [
      "True\n"
     ]
    }
   ],
   "source": [
    "print(2 in myTuple1)"
   ]
  },
  {
   "cell_type": "code",
   "execution_count": 44,
   "id": "299768bd",
   "metadata": {},
   "outputs": [
    {
     "data": {
      "text/plain": [
       "1"
      ]
     },
     "execution_count": 44,
     "metadata": {},
     "output_type": "execute_result"
    }
   ],
   "source": [
    "myTuple1.count(2)"
   ]
  },
  {
   "cell_type": "code",
   "execution_count": 45,
   "id": "41f13632",
   "metadata": {},
   "outputs": [
    {
     "data": {
      "text/plain": [
       "1"
      ]
     },
     "execution_count": 45,
     "metadata": {},
     "output_type": "execute_result"
    }
   ],
   "source": [
    "myTuple1.index(2)"
   ]
  },
  {
   "cell_type": "code",
   "execution_count": 46,
   "id": "95fd293e",
   "metadata": {},
   "outputs": [
    {
     "name": "stdout",
     "output_type": "stream",
     "text": [
      "15 25 35\n"
     ]
    }
   ],
   "source": [
    "x, y, z = (10,15,20,25,30,35,40)[1::2]\n",
    "print(x,y,z)"
   ]
  },
  {
   "cell_type": "code",
   "execution_count": 49,
   "id": "6009c70a",
   "metadata": {},
   "outputs": [
    {
     "name": "stdout",
     "output_type": "stream",
     "text": [
      "3 -6\n"
     ]
    }
   ],
   "source": [
    "x = 3\n",
    "y = -6\n",
    "\n",
    "x, y =(y, x)[::-1]\n",
    "print(x, y)"
   ]
  },
  {
   "cell_type": "code",
   "execution_count": null,
   "id": "8487113e",
   "metadata": {},
   "outputs": [],
   "source": []
  }
 ],
 "metadata": {
  "kernelspec": {
   "display_name": "Python 3 (ipykernel)",
   "language": "python",
   "name": "python3"
  },
  "language_info": {
   "codemirror_mode": {
    "name": "ipython",
    "version": 3
   },
   "file_extension": ".py",
   "mimetype": "text/x-python",
   "name": "python",
   "nbconvert_exporter": "python",
   "pygments_lexer": "ipython3",
   "version": "3.9.12"
  }
 },
 "nbformat": 4,
 "nbformat_minor": 5
}
